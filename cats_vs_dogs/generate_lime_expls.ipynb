{
 "cells": [
  {
   "cell_type": "code",
   "execution_count": null,
   "id": "e2805d47-5e00-42dc-8460-f71ac4fea420",
   "metadata": {},
   "outputs": [],
   "source": [
    "import os\n",
    "import contextlib\n",
    "import gc\n",
    "import itertools\n",
    "import pickle\n",
    "import tensorflow               as tf\n",
    "import matplotlib.pyplot        as plt\n",
    "import numpy                    as np\n",
    "import seaborn                  as sns\n",
    "from sklearn.metrics.pairwise   import cosine_similarity\n",
    "from skimage.segmentation       import mark_boundaries\n",
    "from lime                       import lime_image\n",
    "from lime.wrappers.scikit_image import SegmentationAlgorithm"
   ]
  },
  {
   "cell_type": "code",
   "execution_count": 3,
   "id": "e1255aa7-5ce2-4af4-ae99-18539c180f63",
   "metadata": {},
   "outputs": [],
   "source": [
    "class_labels = {\n",
    "    0 : 'cat',\n",
    "    1 : 'dog',\n",
    "}\n",
    "class_labels = list(class_labels.values())"
   ]
  },
  {
   "cell_type": "code",
   "execution_count": 4,
   "id": "d1cd7f9e-a5e9-43fa-b7b1-ad170a6c0430",
   "metadata": {},
   "outputs": [
    {
     "name": "stderr",
     "output_type": "stream",
     "text": [
      "2024-11-05 05:45:24.847380: W tensorflow/core/common_runtime/gpu/gpu_device.cc:2211] Cannot dlopen some GPU libraries. Please make sure the missing libraries mentioned above are installed properly if you would like to use GPU. Follow the guide at https://www.tensorflow.org/install/gpu for how to download and setup the required libraries for your platform.\n",
      "Skipping registering GPU devices...\n"
     ]
    }
   ],
   "source": [
    "test_set = tf.data.Dataset.load('test_set')\n",
    "test_set = test_set.shuffle(256)"
   ]
  },
  {
   "cell_type": "code",
   "execution_count": null,
   "id": "6c21ae79",
   "metadata": {},
   "outputs": [],
   "source": [
    "from tools import LIMEExplainer\n",
    "\n",
    "lime_explainer = LIMEExplainer()"
   ]
  },
  {
   "cell_type": "markdown",
   "id": "41640d09",
   "metadata": {},
   "source": [
    "## 1. Models with different feature extractors"
   ]
  },
  {
   "cell_type": "code",
   "execution_count": 5,
   "id": "672d4017-2f36-41a7-b437-4b42b70a1c65",
   "metadata": {},
   "outputs": [],
   "source": [
    "model_extrcs = []\n",
    "save_dir     = \"models/diff_extrcs\"\n",
    "\n",
    "for model_file in os.listdir(save_dir):\n",
    "    if model_file.endswith(\".h5\"):\n",
    "        model_path = os.path.join(save_dir, model_file)\n",
    "        model      = tf.keras.models.load_model(model_path)\n",
    "        model_extrcs.append(model)"
   ]
  },
  {
   "cell_type": "code",
   "execution_count": 6,
   "id": "22427eed-b077-46f1-a367-186c4bd2e1a1",
   "metadata": {},
   "outputs": [
    {
     "name": "stdout",
     "output_type": "stream",
     "text": [
      "Inception-CvD\n",
      "Densenet-CvD\n",
      "Xception_CvD\n",
      "ResNet-CvD\n"
     ]
    }
   ],
   "source": [
    "for model_file in model_extrcs:\n",
    "    print(model_file.name)"
   ]
  },
  {
   "cell_type": "code",
   "execution_count": 7,
   "id": "b00f5266-efec-41df-b771-41ef86cbbe85",
   "metadata": {},
   "outputs": [
    {
     "name": "stdout",
     "output_type": "stream",
     "text": [
      "Xception\n",
      "InceptionV3\n",
      "DenseNet121\n",
      "ResNet50V2\n"
     ]
    }
   ],
   "source": [
    "extrc_names = [\"Xception\", \"InceptionV3\", \"DenseNet121\", \"ResNet50V2\"]\n",
    "\n",
    "for i, model in enumerate(model_extrcs):\n",
    "    model._name = extrc_names[i]\n",
    "    print(model.name)"
   ]
  },
  {
   "cell_type": "code",
   "execution_count": null,
   "id": "7d434cd1-300f-4be4-b7f4-567293c52cc6",
   "metadata": {},
   "outputs": [],
   "source": [
    "import helper\n",
    "\n",
    "samples = [helper.get_sample(i, test_set) for i in range(2)]"
   ]
  },
  {
   "cell_type": "code",
   "execution_count": 10,
   "id": "0d562890-4bba-47a3-80f3-70eea34863cb",
   "metadata": {},
   "outputs": [
    {
     "name": "stdout",
     "output_type": "stream",
     "text": [
      "Wrong Prediction at index 4 by Xception: Predicted cat, True dog\n",
      "Wrong Prediction at index 13 by InceptionV3: Predicted cat, True dog\n",
      "Wrong Prediction at index 22 by InceptionV3: Predicted cat, True dog\n",
      "Wrong Prediction at index 33 by DenseNet121: Predicted cat, True dog\n",
      "Wrong Prediction at index 68 by Xception: Predicted cat, True dog\n",
      "Wrong Prediction at index 71 by Xception: Predicted cat, True dog\n",
      "Wrong Prediction at index 75 by ResNet50V2: Predicted cat, True dog\n",
      "Wrong Prediction at index 89 by DenseNet121: Predicted cat, True dog\n",
      "Wrong Prediction at index 90 by DenseNet121: Predicted cat, True dog\n"
     ]
    }
   ],
   "source": [
    "# filter out wrong predictions\n",
    "preds_extrcs   = [helper.get_predictions(model_extrcs, sample_list[:100]) for sample_list in samples] # process only 100 instances\n",
    "samples_extrcs = [helper.filter_correct_predictions(prediction) for prediction in preds_extrcs]"
   ]
  },
  {
   "cell_type": "code",
   "execution_count": null,
   "id": "5da7f971-7102-4483-ac3b-46841bf756f7",
   "metadata": {
    "scrolled": true
   },
   "outputs": [],
   "source": [
    "%%time\n",
    "save_directory = 'LIME Expls/diff_extrcs'\n",
    "\n",
    "with open(os.devnull, 'w') as f:\n",
    "    with contextlib.redirect_stdout(f):\n",
    "        lime_explainer.generate_and_save_explanations(samples_extrcs, model_extrcs, save_directory)"
   ]
  },
  {
   "cell_type": "markdown",
   "id": "3b068d72",
   "metadata": {},
   "source": [
    "## 2. Models with different optimizers"
   ]
  },
  {
   "cell_type": "code",
   "execution_count": 40,
   "id": "abb2fdf3-fef0-4d2d-928a-ba94fe32e9d8",
   "metadata": {},
   "outputs": [],
   "source": [
    "# load models\n",
    "model_opts     = []\n",
    "save_directory = 'models/diff_opts/'\n",
    "\n",
    "for model_file in os.listdir(save_directory):\n",
    "    if model_file.endswith('.h5'):\n",
    "        model_path = os.path.join(save_directory, model_file)\n",
    "        model      = tf.keras.models.load_model(model_path)\n",
    "        model_opts.append(model)"
   ]
  },
  {
   "cell_type": "code",
   "execution_count": 41,
   "id": "9899841c-2281-421d-9f43-ce1041d03603",
   "metadata": {},
   "outputs": [
    {
     "name": "stdout",
     "output_type": "stream",
     "text": [
      "WARNING:tensorflow:5 out of the last 42901 calls to <function Model.make_predict_function.<locals>.predict_function at 0x1535081fd080> triggered tf.function retracing. Tracing is expensive and the excessive number of tracings could be due to (1) creating @tf.function repeatedly in a loop, (2) passing tensors with different shapes, (3) passing Python objects instead of tensors. For (1), please define your @tf.function outside of the loop. For (2), @tf.function has reduce_retracing=True option that can avoid unnecessary retracing. For (3), please refer to https://www.tensorflow.org/guide/function#controlling_retracing and https://www.tensorflow.org/api_docs/python/tf/function for  more details.\n",
      "Wrong Prediction at index 61 by DenseNet-SGD: Predicted dog, True cat\n",
      "Wrong Prediction at index 13 by DenseNet-SGD: Predicted cat, True dog\n",
      "Wrong Prediction at index 22 by DenseNet-Nadam: Predicted cat, True dog\n",
      "Wrong Prediction at index 95 by DenseNet-Adam: Predicted cat, True dog\n"
     ]
    }
   ],
   "source": [
    "preds_opts   = [helper.get_predictions(model_opts, sample_list[:100]) for sample_list in samples] # process only 100 instances\n",
    "samples_opts = [helper.filter_correct_predictions(prediction) for prediction in preds_opts]"
   ]
  },
  {
   "cell_type": "code",
   "execution_count": null,
   "id": "4083b6d3-5342-45b0-8148-77125ef7cb6d",
   "metadata": {
    "scrolled": true
   },
   "outputs": [],
   "source": [
    "%%time\n",
    "save_directory = 'LIME Expls/diff_opts'\n",
    "\n",
    "with open(os.devnull, 'w') as f:\n",
    "    with contextlib.redirect_stdout(f):\n",
    "        lime_explainer.generate_and_save_explanations(samples_opts, model_opts, save_directory)"
   ]
  },
  {
   "cell_type": "markdown",
   "id": "0dfb4be9",
   "metadata": {},
   "source": [
    "## 3. Models with different weight initializations"
   ]
  },
  {
   "cell_type": "code",
   "execution_count": 45,
   "id": "1e094c2a-5528-4433-a4a6-2ec4686a74d4",
   "metadata": {},
   "outputs": [],
   "source": [
    "model_seeds    = []\n",
    "save_directory = \"models/diff_seeds/\"\n",
    "\n",
    "for model_file in os.listdir(save_directory):\n",
    "    if model_file.endswith(\".h5\"):\n",
    "        model_path = os.path.join(save_directory, model_file)\n",
    "        model      = tf.keras.models.load_model(model_path)\n",
    "        model_seeds.append(model)"
   ]
  },
  {
   "cell_type": "code",
   "execution_count": 46,
   "id": "b9085840-fd54-44cb-9b16-cd794234e8b1",
   "metadata": {},
   "outputs": [
    {
     "name": "stdout",
     "output_type": "stream",
     "text": [
      "Dense1\n",
      "Dense2\n",
      "Dense3\n",
      "Dense4\n",
      "Dense5\n",
      "Dense6\n",
      "Dense7\n",
      "Dense8\n",
      "Dense9\n",
      "Dense10\n"
     ]
    }
   ],
   "source": [
    "for i, model in enumerate(model_seeds):\n",
    "    model._name = f'Dense{i+1}'\n",
    "    print(model.name)"
   ]
  },
  {
   "cell_type": "code",
   "execution_count": 47,
   "id": "c83a06e0-c637-406a-8dff-719ebe6c7817",
   "metadata": {},
   "outputs": [
    {
     "name": "stdout",
     "output_type": "stream",
     "text": [
      "WARNING:tensorflow:5 out of the last 41193 calls to <function Model.make_predict_function.<locals>.predict_function at 0x1534ddf73d80> triggered tf.function retracing. Tracing is expensive and the excessive number of tracings could be due to (1) creating @tf.function repeatedly in a loop, (2) passing tensors with different shapes, (3) passing Python objects instead of tensors. For (1), please define your @tf.function outside of the loop. For (2), @tf.function has reduce_retracing=True option that can avoid unnecessary retracing. For (3), please refer to https://www.tensorflow.org/guide/function#controlling_retracing and https://www.tensorflow.org/api_docs/python/tf/function for  more details.\n",
      "Wrong Prediction at index 13 by Dense2: Predicted cat, True dog\n",
      "Wrong Prediction at index 22 by Dense1: Predicted cat, True dog\n",
      "Wrong Prediction at index 68 by Dense5: Predicted cat, True dog\n",
      "Wrong Prediction at index 95 by Dense2: Predicted cat, True dog\n"
     ]
    }
   ],
   "source": [
    "preds_seeds   = [helper.get_predictions(model_seeds, sample_list[:100]) for sample_list in samples] # process only 100 instances\n",
    "samples_seeds = [helper.filter_correct_predictions(prediction) for prediction in preds_seeds]"
   ]
  },
  {
   "cell_type": "code",
   "execution_count": null,
   "id": "19f15957-8396-4f35-99bc-debf304b4d60",
   "metadata": {
    "scrolled": true
   },
   "outputs": [],
   "source": [
    "%%time\n",
    "save_directory = 'LIME Expls/diff_seeds'\n",
    "\n",
    "with open(os.devnull, 'w') as f:\n",
    "    with contextlib.redirect_stdout(f):\n",
    "        lime_explainer.generate_and_save_explanations(samples_seeds, model_seeds, save_directory)"
   ]
  }
 ],
 "metadata": {
  "kernelspec": {
   "display_name": "Python 3 (ipykernel)",
   "language": "python",
   "name": "python3"
  },
  "language_info": {
   "codemirror_mode": {
    "name": "ipython",
    "version": 3
   },
   "file_extension": ".py",
   "mimetype": "text/x-python",
   "name": "python",
   "nbconvert_exporter": "python",
   "pygments_lexer": "ipython3",
   "version": "3.11.6"
  }
 },
 "nbformat": 4,
 "nbformat_minor": 5
}
