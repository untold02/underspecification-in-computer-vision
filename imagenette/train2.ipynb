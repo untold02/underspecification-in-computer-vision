{
 "cells": [
  {
   "cell_type": "code",
   "execution_count": 2,
   "id": "883bb07a-96ed-4567-8b20-754457119b74",
   "metadata": {},
   "outputs": [],
   "source": [
    "import matplotlib.pyplot as plt\n",
    "import numpy as np\n",
    "import os\n",
    "import pickle\n",
    "import contextlib\n",
    "import gc\n",
    "import random\n",
    "import tensorflow as tf\n",
    "from tensorflow.keras import layers, models\n",
    "from tensorflow.keras.applications import DenseNet121\n",
    "from keras.models import Sequential\n",
    "from keras.layers import GlobalAveragePooling2D, Dense, Lambda, Dropout\n",
    "from keras.optimizers import Adam\n",
    "from sklearn.metrics.pairwise import cosine_similarity\n",
    "import seaborn as sns\n",
    "from labels import class_labels"
   ]
  },
  {
   "cell_type": "code",
   "execution_count": 3,
   "id": "4bd23f9a-624d-429b-8f55-cb860b30d013",
   "metadata": {},
   "outputs": [
    {
     "name": "stdout",
     "output_type": "stream",
     "text": [
      "Found 9469 files belonging to 10 classes.\n"
     ]
    },
    {
     "name": "stderr",
     "output_type": "stream",
     "text": [
      "2024-10-20 17:37:53.323552: W tensorflow/core/common_runtime/gpu/gpu_device.cc:2211] Cannot dlopen some GPU libraries. Please make sure the missing libraries mentioned above are installed properly if you would like to use GPU. Follow the guide at https://www.tensorflow.org/install/gpu for how to download and setup the required libraries for your platform.\n",
      "Skipping registering GPU devices...\n"
     ]
    },
    {
     "name": "stdout",
     "output_type": "stream",
     "text": [
      "Found 3925 files belonging to 10 classes.\n"
     ]
    }
   ],
   "source": [
    "train_dir     = 'train' \n",
    "val_dir       = 'val'   \n",
    "batch_size    = 64                                                                      # Batch size for training and validation datasets\n",
    "img_size      = (224,224)                                                               # Image size to which all images will be resized\n",
    "\n",
    "# Create a training dataset from the images in the train directory\n",
    "train_dataset = tf.keras.utils.image_dataset_from_directory(train_dir,\n",
    "                                                            shuffle=True,               # Shuffle the data\n",
    "                                                            seed=123,                   # Set a random seed for reproducibility\n",
    "                                                            batch_size=batch_size,      # Specify the batch size\n",
    "                                                            image_size=img_size)        # Specify the image size\n",
    "\n",
    "# Create a validation dataset from the images in the val directory\n",
    "val_dataset   = tf.keras.utils.image_dataset_from_directory(val_dir,\n",
    "                                                                 shuffle=True,          # Shuffle the data\n",
    "                                                                 seed=123,              # Set a random seed for reproducibility\n",
    "                                                                 batch_size=batch_size, # Specify the batch size\n",
    "                                                                 image_size=img_size)   # Specify the image size\n"
   ]
  },
  {
   "cell_type": "code",
   "execution_count": 4,
   "id": "8242b1b5-da74-4a12-b87f-28ac2508c381",
   "metadata": {},
   "outputs": [
    {
     "data": {
      "text/plain": [
       "['tench',\n",
       " 'english springer',\n",
       " 'cassette player',\n",
       " 'chain saw',\n",
       " 'church',\n",
       " 'french horn',\n",
       " 'garbage truck',\n",
       " 'gas pump',\n",
       " 'golf ball',\n",
       " 'parachute']"
      ]
     },
     "execution_count": 4,
     "metadata": {},
     "output_type": "execute_result"
    }
   ],
   "source": [
    "class_labels"
   ]
  },
  {
   "cell_type": "code",
   "execution_count": 5,
   "id": "05cc7f99-a11b-4d8a-bd86-bf7d14fb8bdc",
   "metadata": {},
   "outputs": [
    {
     "name": "stdout",
     "output_type": "stream",
     "text": [
      "0.0 1.0\n"
     ]
    }
   ],
   "source": [
    "#normalize data\n",
    "normalization_layer = tf.keras.layers.Rescaling(scale=1./255)\n",
    "train_dataset       = train_dataset.map(lambda x, y:(normalization_layer(x), tf.one_hot(y, depth=10)))\n",
    "val_dataset         = val_dataset.map(lambda x, y:(normalization_layer(x),  tf.one_hot(y, depth=10)))\n",
    "\n",
    "image_batch, _      = next(iter(train_dataset))\n",
    "first_image         = image_batch[0]\n",
    "print(np.min(first_image), np.max(first_image))"
   ]
  },
  {
   "cell_type": "code",
   "execution_count": 6,
   "id": "07bd96f0-dfa1-4040-9a51-79054197af11",
   "metadata": {},
   "outputs": [
    {
     "name": "stdout",
     "output_type": "stream",
     "text": [
      "Batch of images shape: (64, 224, 224, 3)\n",
      "Batch of labels shape: (64, 10)\n"
     ]
    }
   ],
   "source": [
    "for image, labels in train_dataset.take(1):\n",
    "    print(\"Batch of images shape:\", image.shape)\n",
    "    print(\"Batch of labels shape:\" ,labels.shape)"
   ]
  },
  {
   "cell_type": "code",
   "execution_count": 7,
   "id": "941bdda8-2abe-46f3-af8c-898d39147258",
   "metadata": {},
   "outputs": [
    {
     "name": "stdout",
     "output_type": "stream",
     "text": [
      "Number of validation batches: 50\n",
      "number of images in validation set : 3200\n",
      "Number of test batches: 12\n",
      "number of images in test set : 768\n"
     ]
    }
   ],
   "source": [
    "# Create a test set by taking the first 20% of the validation set\n",
    "val_batches  = tf.data.experimental.cardinality(val_dataset)        # calculates the num of batches in the validation set\n",
    "test_dataset = val_dataset.take(val_batches // 5)                   # take the first 20% of the val dataset to create the new test set\n",
    "val_dataset  = val_dataset.skip(val_batches // 5)                   # skip the first 20% of the val dataset to keep remaining 80% as the new val set.\n",
    "\n",
    "print('Number of validation batches: %d' % tf.data.experimental.cardinality(val_dataset))\n",
    "print(\"number of images in validation set :\", len(val_dataset)*batch_size)\n",
    "print('Number of test batches: %d' % tf.data.experimental.cardinality(test_dataset))\n",
    "print(\"number of images in test set :\", len(test_dataset)*batch_size)"
   ]
  },
  {
   "cell_type": "code",
   "execution_count": 8,
   "id": "80f025de-b4e7-423e-ae46-2e3f9a3c287c",
   "metadata": {},
   "outputs": [],
   "source": [
    "from keras.layers import GlobalAveragePooling2D, Dense, Lambda, Dropout\n",
    "from keras.optimizers import Adam\n",
    "from tensorflow.keras.metrics import Precision, Recall, AUC\n",
    "from tensorflow.keras.backend import epsilon\n",
    "from tensorflow.keras.initializers import GlorotUniform\n",
    "\n",
    "class F1Score(tf.keras.metrics.Metric):\n",
    "    \"\"\"F1 Score Metric for TensorFlow Keras models.\n",
    "    This class implements the F1 Score metric, which is the harmonic mean of precision and recall.\n",
    "    F1 = 2 * (precision * recall) / (precision + recall)\n",
    "    Attributes:\n",
    "        precision (Precision): Instance of tf.keras.metrics.Precision\n",
    "        recall (Recall): Instance of tf.keras.metrics.Recall\n",
    "    Methods:\n",
    "        update_state(y_true, y_pred, sample_weight=None): \n",
    "            Updates the internal states of precision and recall metrics.\n",
    "        result(): \n",
    "            Computes and returns the F1 score based on current precision and recall values.\n",
    "        reset_states(): \n",
    "            Resets the internal states of both precision and recall metrics.\n",
    "    Args:\n",
    "        name (str, optional): Name of the metric. Defaults to \"f1_score\".\n",
    "        **kwargs: Additional keyword arguments to be passed to the parent class.\n",
    "    Example:\n",
    "        ```python\n",
    "        model.compile(optimizer='adam',\n",
    "                     loss='binary_crossentropy',\n",
    "                     metrics=[F1Score()])\n",
    "        ```\n",
    "    \"\"\"\n",
    "        \n",
    "    def __init__(self, name=\"f1_score\", **kwargs):\n",
    "        super(F1Score, self).__init__(name=name, **kwargs)\n",
    "        self.precision = Precision()\n",
    "        self.recall = Recall()\n",
    "\n",
    "    def update_state(self, y_true, y_pred, sample_weight=None):\n",
    "        self.precision.update_state(y_true, y_pred, sample_weight)\n",
    "        self.recall.update_state(y_true, y_pred, sample_weight)\n",
    "\n",
    "    def result(self):\n",
    "        p = self.precision.result()\n",
    "        r = self.recall.result()\n",
    "        return 2 * ((p * r) / (p + r + tf.keras.backend.epsilon()))\n",
    "\n",
    "    def reset_states(self):\n",
    "        self.precision.reset_state()\n",
    "        self.recall.reset_state()"
   ]
  },
  {
   "cell_type": "code",
   "execution_count": 10,
   "id": "a980640b-f670-45c4-bf1d-bde84582bbab",
   "metadata": {},
   "outputs": [],
   "source": [
    "import random\n",
    "\n",
    "def set_random_seeds(seed_value):\n",
    "    \"\"\"\n",
    "    Set random seeds.\n",
    "    Parameters:\n",
    "    - seed_value: The seed value to be used for all random number generators.\n",
    "    \"\"\"\n",
    "    np.random.seed(seed_value)          # Set seed for numpy module\n",
    "    random.seed(seed_value)             # Set seed for python built-in random module\n",
    "    tf.random.set_seed(seed_value)      # Set seed for TensorFlow"
   ]
  },
  {
   "cell_type": "code",
   "execution_count": 11,
   "id": "9ca604cc-986b-415e-86e5-3fd107304c38",
   "metadata": {},
   "outputs": [],
   "source": [
    "def create_model():\n",
    "    \"\"\"\n",
    "    Creates and compiles a DenseNet121-based model with different random initial weights.\n",
    "    The model uses a pre-trained DenseNet121 as the base model with the top layers removed.\n",
    "    It adds a global average pooling layer, followed by dropout, a dense layer, more dropout,\n",
    "    and a final dense layer with softmax activation for classification into 10 classes.\n",
    "    Returns:\n",
    "        tf.keras.Model: The compiled Keras model ready for training.\n",
    "    Model Architecture:\n",
    "        - Base Model: DenseNet121 (pre-trained on ImageNet, without top layers)\n",
    "        - Global Average Pooling Layer\n",
    "        - Dropout Layer (rate=0.2)\n",
    "        - Dense Layer (512 units, ReLU activation)\n",
    "        - Dropout Layer (rate=0.4)\n",
    "        - Output Layer (10 units, softmax activation)\n",
    "    Compilation:\n",
    "        - Optimizer: Adam\n",
    "        - Loss: Categorical Crossentropy\n",
    "        - Metrics: Accuracy, Precision, Recall, AUC, F1Score\n",
    "    \"\"\"\n",
    "    base_model = tf.keras.applications.DenseNet121(include_top = False,\n",
    "                                                   input_shape = (224,224,3),\n",
    "                                                   weights     = 'imagenet',)\n",
    "    base_model.trainable = False\n",
    "\n",
    "    x       = base_model.output\n",
    "    x       = GlobalAveragePooling2D()(x)\n",
    "    x       = Dropout(0.2)(x)\n",
    "    x       = Dense(512, activation ='relu')(x)\n",
    "    x       = Dropout(0.4)(x)\n",
    "    outputs = Dense(10, activation  ='softmax')(x)\n",
    "\n",
    "    model   = tf.keras.Model(inputs = base_model.input, outputs=outputs)\n",
    "    \n",
    "    \n",
    "    model.compile(optimizer=Adam(),\n",
    "                 loss    = 'categorical_crossentropy',\n",
    "                 metrics = ['accuracy',\n",
    "                         Precision(name = 'precision'),\n",
    "                         Recall(name    = 'recall'),\n",
    "                         AUC(name       = 'auc'),\n",
    "                         F1Score(name   = 'f1_score')])\n",
    "    return model"
   ]
  },
  {
   "cell_type": "code",
   "execution_count": 8,
   "id": "f64d1212-a230-479b-b1cb-e0b32549a235",
   "metadata": {
    "scrolled": true
   },
   "outputs": [
    {
     "name": "stdout",
     "output_type": "stream",
     "text": [
      "Trial 4\n",
      "Epoch 1/10\n"
     ]
    },
    {
     "name": "stderr",
     "output_type": "stream",
     "text": [
      "/opt/conda/lib/python3.11/site-packages/keras/src/engine/training.py:2699: UserWarning: Metric F1Score implements a `reset_states()` method; rename it to `reset_state()` (without the final \"s\"). The name `reset_states()` has been deprecated to improve API consistency.\n",
      "  m.reset_state()\n"
     ]
    },
    {
     "name": "stdout",
     "output_type": "stream",
     "text": [
      "148/148 - 56s - loss: 0.2575 - accuracy: 0.9222 - precision: 0.9575 - recall: 0.8997 - auc: 0.9942 - f1_score: 0.9277 - val_loss: 0.0608 - val_accuracy: 0.9772 - val_precision: 0.9843 - val_recall: 0.9747 - val_auc: 0.9995 - val_f1_score: 0.9795 - 56s/epoch - 382ms/step\n",
      "Epoch 2/10\n",
      "148/148 - 47s - loss: 0.0966 - accuracy: 0.9673 - precision: 0.9735 - recall: 0.9637 - auc: 0.9985 - f1_score: 0.9686 - val_loss: 0.0525 - val_accuracy: 0.9829 - val_precision: 0.9863 - val_recall: 0.9804 - val_auc: 0.9995 - val_f1_score: 0.9833 - 47s/epoch - 320ms/step\n",
      "Epoch 3/10\n",
      "148/148 - 48s - loss: 0.0754 - accuracy: 0.9747 - precision: 0.9793 - recall: 0.9729 - auc: 0.9989 - f1_score: 0.9761 - val_loss: 0.0559 - val_accuracy: 0.9810 - val_precision: 0.9847 - val_recall: 0.9794 - val_auc: 0.9997 - val_f1_score: 0.9821 - 48s/epoch - 322ms/step\n",
      "Epoch 4/10\n",
      "148/148 - 51s - loss: 0.0649 - accuracy: 0.9787 - precision: 0.9816 - recall: 0.9759 - auc: 0.9991 - f1_score: 0.9788 - val_loss: 0.0541 - val_accuracy: 0.9813 - val_precision: 0.9838 - val_recall: 0.9794 - val_auc: 0.9997 - val_f1_score: 0.9816 - 51s/epoch - 344ms/step\n",
      "Epoch 5/10\n",
      "148/148 - 48s - loss: 0.0584 - accuracy: 0.9798 - precision: 0.9833 - recall: 0.9774 - auc: 0.9994 - f1_score: 0.9804 - val_loss: 0.0475 - val_accuracy: 0.9832 - val_precision: 0.9854 - val_recall: 0.9819 - val_auc: 0.9992 - val_f1_score: 0.9837 - 48s/epoch - 326ms/step\n",
      "Epoch 6/10\n",
      "148/148 - 47s - loss: 0.0559 - accuracy: 0.9816 - precision: 0.9846 - recall: 0.9797 - auc: 0.9994 - f1_score: 0.9822 - val_loss: 0.0502 - val_accuracy: 0.9819 - val_precision: 0.9841 - val_recall: 0.9794 - val_auc: 0.9992 - val_f1_score: 0.9817 - 47s/epoch - 315ms/step\n",
      "Epoch 7/10\n",
      "148/148 - 47s - loss: 0.0496 - accuracy: 0.9824 - precision: 0.9846 - recall: 0.9806 - auc: 0.9994 - f1_score: 0.9826 - val_loss: 0.0766 - val_accuracy: 0.9750 - val_precision: 0.9774 - val_recall: 0.9743 - val_auc: 0.9985 - val_f1_score: 0.9759 - 47s/epoch - 315ms/step\n",
      "Epoch 8/10\n",
      "148/148 - 46s - loss: 0.0423 - accuracy: 0.9852 - precision: 0.9874 - recall: 0.9833 - auc: 0.9995 - f1_score: 0.9853 - val_loss: 0.0617 - val_accuracy: 0.9819 - val_precision: 0.9832 - val_recall: 0.9807 - val_auc: 0.9981 - val_f1_score: 0.9819 - 46s/epoch - 314ms/step\n",
      "Epoch 9/10\n",
      "148/148 - 46s - loss: 0.0494 - accuracy: 0.9826 - precision: 0.9855 - recall: 0.9812 - auc: 0.9994 - f1_score: 0.9833 - val_loss: 0.0592 - val_accuracy: 0.9797 - val_precision: 0.9831 - val_recall: 0.9791 - val_auc: 0.9992 - val_f1_score: 0.9811 - 46s/epoch - 313ms/step\n",
      "Epoch 10/10\n",
      "148/148 - 48s - loss: 0.0406 - accuracy: 0.9867 - precision: 0.9880 - recall: 0.9853 - auc: 0.9995 - f1_score: 0.9867 - val_loss: 0.0500 - val_accuracy: 0.9842 - val_precision: 0.9860 - val_recall: 0.9829 - val_auc: 0.9989 - val_f1_score: 0.9845 - 48s/epoch - 322ms/step\n",
      "50/50 [==============================] - 12s 224ms/step - loss: 0.0574 - accuracy: 0.9816 - precision: 0.9835 - recall: 0.9804 - auc: 0.9986 - f1_score: 0.9819\n",
      "Validation Accuracy for trial 4: 0.9816281199455261\n",
      "12/12 [==============================] - 3s 252ms/step - loss: 0.0455 - accuracy: 0.9844 - precision: 0.9844 - recall: 0.9844 - auc: 0.9999 - f1_score: 0.9844\n",
      "Test Accuracy for trial 4: 0.984375\n"
     ]
    },
    {
     "name": "stderr",
     "output_type": "stream",
     "text": [
      "/opt/conda/lib/python3.11/site-packages/keras/src/engine/training.py:3079: UserWarning: You are saving your model as an HDF5 file via `model.save()`. This file format is considered legacy. We recommend using instead the native Keras format, e.g. `model.save('my_model.keras')`.\n",
      "  saving_api.save_model(\n"
     ]
    },
    {
     "name": "stdout",
     "output_type": "stream",
     "text": [
      "Model saved as DenseNet_models/DenseNet4.h5\n",
      "Trial 5\n",
      "Epoch 1/10\n",
      "148/148 - 54s - loss: 0.2516 - accuracy: 0.9232 - precision: 0.9606 - recall: 0.9045 - auc: 0.9949 - f1_score: 0.9317 - val_loss: 0.0806 - val_accuracy: 0.9759 - val_precision: 0.9798 - val_recall: 0.9702 - val_auc: 0.9990 - val_f1_score: 0.9750 - 54s/epoch - 365ms/step\n",
      "Epoch 2/10\n",
      "148/148 - 50s - loss: 0.1020 - accuracy: 0.9659 - precision: 0.9734 - recall: 0.9621 - auc: 0.9985 - f1_score: 0.9677 - val_loss: 0.0586 - val_accuracy: 0.9845 - val_precision: 0.9888 - val_recall: 0.9797 - val_auc: 0.9993 - val_f1_score: 0.9842 - 50s/epoch - 336ms/step\n",
      "Epoch 3/10\n",
      "148/148 - 50s - loss: 0.0724 - accuracy: 0.9768 - precision: 0.9804 - recall: 0.9741 - auc: 0.9992 - f1_score: 0.9773 - val_loss: 0.0517 - val_accuracy: 0.9842 - val_precision: 0.9866 - val_recall: 0.9813 - val_auc: 0.9992 - val_f1_score: 0.9840 - 50s/epoch - 338ms/step\n",
      "Epoch 4/10\n",
      "148/148 - 46s - loss: 0.0673 - accuracy: 0.9788 - precision: 0.9818 - recall: 0.9761 - auc: 0.9990 - f1_score: 0.9790 - val_loss: 0.0607 - val_accuracy: 0.9804 - val_precision: 0.9844 - val_recall: 0.9772 - val_auc: 0.9992 - val_f1_score: 0.9808 - 46s/epoch - 314ms/step\n",
      "Epoch 5/10\n",
      "148/148 - 47s - loss: 0.0630 - accuracy: 0.9795 - precision: 0.9833 - recall: 0.9769 - auc: 0.9990 - f1_score: 0.9801 - val_loss: 0.0449 - val_accuracy: 0.9867 - val_precision: 0.9895 - val_recall: 0.9842 - val_auc: 0.9992 - val_f1_score: 0.9868 - 47s/epoch - 317ms/step\n",
      "Epoch 6/10\n",
      "148/148 - 47s - loss: 0.0521 - accuracy: 0.9825 - precision: 0.9843 - recall: 0.9805 - auc: 0.9996 - f1_score: 0.9824 - val_loss: 0.0453 - val_accuracy: 0.9873 - val_precision: 0.9889 - val_recall: 0.9857 - val_auc: 0.9994 - val_f1_score: 0.9873 - 47s/epoch - 315ms/step\n",
      "Epoch 7/10\n",
      "148/148 - 47s - loss: 0.0452 - accuracy: 0.9847 - precision: 0.9877 - recall: 0.9828 - auc: 0.9996 - f1_score: 0.9852 - val_loss: 0.0466 - val_accuracy: 0.9819 - val_precision: 0.9828 - val_recall: 0.9797 - val_auc: 0.9994 - val_f1_score: 0.9813 - 47s/epoch - 315ms/step\n",
      "Epoch 8/10\n",
      "148/148 - 46s - loss: 0.0477 - accuracy: 0.9857 - precision: 0.9875 - recall: 0.9844 - auc: 0.9994 - f1_score: 0.9859 - val_loss: 0.0484 - val_accuracy: 0.9867 - val_precision: 0.9882 - val_recall: 0.9848 - val_auc: 0.9994 - val_f1_score: 0.9865 - 46s/epoch - 314ms/step\n",
      "Epoch 9/10\n",
      "148/148 - 46s - loss: 0.0407 - accuracy: 0.9880 - precision: 0.9897 - recall: 0.9857 - auc: 0.9995 - f1_score: 0.9877 - val_loss: 0.0461 - val_accuracy: 0.9857 - val_precision: 0.9867 - val_recall: 0.9842 - val_auc: 0.9994 - val_f1_score: 0.9854 - 46s/epoch - 314ms/step\n",
      "Epoch 10/10\n",
      "148/148 - 47s - loss: 0.0393 - accuracy: 0.9866 - precision: 0.9890 - recall: 0.9857 - auc: 0.9995 - f1_score: 0.9874 - val_loss: 0.0606 - val_accuracy: 0.9816 - val_precision: 0.9835 - val_recall: 0.9813 - val_auc: 0.9985 - val_f1_score: 0.9824 - 47s/epoch - 315ms/step\n",
      "50/50 [==============================] - 12s 227ms/step - loss: 0.0522 - accuracy: 0.9838 - precision: 0.9854 - recall: 0.9835 - auc: 0.9989 - f1_score: 0.9845\n",
      "Validation Accuracy for trial 5: 0.9838454127311707\n",
      "12/12 [==============================] - 3s 247ms/step - loss: 0.0442 - accuracy: 0.9883 - precision: 0.9896 - recall: 0.9883 - auc: 0.9993 - f1_score: 0.9889\n",
      "Test Accuracy for trial 5: 0.98828125\n",
      "Model saved as DenseNet_models/DenseNet5.h5\n",
      "Trial 6\n",
      "Epoch 1/10\n",
      "148/148 - 53s - loss: 0.2378 - accuracy: 0.9269 - precision: 0.9591 - recall: 0.9074 - auc: 0.9953 - f1_score: 0.9325 - val_loss: 0.0624 - val_accuracy: 0.9781 - val_precision: 0.9809 - val_recall: 0.9753 - val_auc: 0.9996 - val_f1_score: 0.9781 - 53s/epoch - 360ms/step\n",
      "Epoch 2/10\n",
      "148/148 - 47s - loss: 0.0951 - accuracy: 0.9695 - precision: 0.9758 - recall: 0.9647 - auc: 0.9986 - f1_score: 0.9702 - val_loss: 0.0677 - val_accuracy: 0.9766 - val_precision: 0.9799 - val_recall: 0.9737 - val_auc: 0.9993 - val_f1_score: 0.9768 - 47s/epoch - 318ms/step\n",
      "Epoch 3/10\n",
      "148/148 - 47s - loss: 0.0778 - accuracy: 0.9759 - precision: 0.9805 - recall: 0.9719 - auc: 0.9989 - f1_score: 0.9762 - val_loss: 0.0515 - val_accuracy: 0.9829 - val_precision: 0.9863 - val_recall: 0.9804 - val_auc: 0.9997 - val_f1_score: 0.9833 - 47s/epoch - 315ms/step\n",
      "Epoch 4/10\n",
      "148/148 - 47s - loss: 0.0695 - accuracy: 0.9762 - precision: 0.9806 - recall: 0.9740 - auc: 0.9991 - f1_score: 0.9773 - val_loss: 0.0564 - val_accuracy: 0.9816 - val_precision: 0.9850 - val_recall: 0.9797 - val_auc: 0.9990 - val_f1_score: 0.9824 - 47s/epoch - 316ms/step\n",
      "Epoch 5/10\n",
      "148/148 - 46s - loss: 0.0634 - accuracy: 0.9794 - precision: 0.9828 - recall: 0.9762 - auc: 0.9991 - f1_score: 0.9795 - val_loss: 0.0478 - val_accuracy: 0.9867 - val_precision: 0.9873 - val_recall: 0.9835 - val_auc: 0.9996 - val_f1_score: 0.9854 - 46s/epoch - 314ms/step\n",
      "Epoch 6/10\n",
      "148/148 - 46s - loss: 0.0531 - accuracy: 0.9809 - precision: 0.9841 - recall: 0.9787 - auc: 0.9996 - f1_score: 0.9814 - val_loss: 0.0525 - val_accuracy: 0.9826 - val_precision: 0.9847 - val_recall: 0.9813 - val_auc: 0.9992 - val_f1_score: 0.9830 - 46s/epoch - 313ms/step\n",
      "Epoch 7/10\n",
      "148/148 - 46s - loss: 0.0478 - accuracy: 0.9842 - precision: 0.9867 - recall: 0.9817 - auc: 0.9994 - f1_score: 0.9842 - val_loss: 0.0526 - val_accuracy: 0.9832 - val_precision: 0.9869 - val_recall: 0.9807 - val_auc: 0.9994 - val_f1_score: 0.9838 - 46s/epoch - 312ms/step\n",
      "Epoch 8/10\n",
      "148/148 - 46s - loss: 0.0467 - accuracy: 0.9849 - precision: 0.9869 - recall: 0.9834 - auc: 0.9994 - f1_score: 0.9851 - val_loss: 0.0529 - val_accuracy: 0.9816 - val_precision: 0.9844 - val_recall: 0.9810 - val_auc: 0.9992 - val_f1_score: 0.9827 - 46s/epoch - 314ms/step\n",
      "Epoch 9/10\n",
      "148/148 - 46s - loss: 0.0463 - accuracy: 0.9842 - precision: 0.9863 - recall: 0.9822 - auc: 0.9996 - f1_score: 0.9842 - val_loss: 0.0520 - val_accuracy: 0.9819 - val_precision: 0.9851 - val_recall: 0.9810 - val_auc: 0.9994 - val_f1_score: 0.9830 - 46s/epoch - 313ms/step\n",
      "Epoch 10/10\n",
      "148/148 - 47s - loss: 0.0448 - accuracy: 0.9851 - precision: 0.9864 - recall: 0.9841 - auc: 0.9996 - f1_score: 0.9852 - val_loss: 0.0695 - val_accuracy: 0.9785 - val_precision: 0.9809 - val_recall: 0.9778 - val_auc: 0.9988 - val_f1_score: 0.9794 - 47s/epoch - 314ms/step\n",
      "50/50 [==============================] - 12s 228ms/step - loss: 0.0683 - accuracy: 0.9781 - precision: 0.9809 - recall: 0.9775 - auc: 0.9988 - f1_score: 0.9792\n",
      "Validation Accuracy for trial 6: 0.9781438112258911\n",
      "12/12 [==============================] - 3s 237ms/step - loss: 0.0556 - accuracy: 0.9831 - precision: 0.9856 - recall: 0.9831 - auc: 0.9998 - f1_score: 0.9844\n",
      "Test Accuracy for trial 6: 0.9830729365348816\n",
      "Model saved as DenseNet_models/DenseNet6.h5\n",
      "Trial 7\n",
      "Epoch 1/10\n",
      "148/148 - 53s - loss: 0.2744 - accuracy: 0.9174 - precision: 0.9529 - recall: 0.8949 - auc: 0.9934 - f1_score: 0.9230 - val_loss: 0.0651 - val_accuracy: 0.9813 - val_precision: 0.9869 - val_recall: 0.9753 - val_auc: 0.9993 - val_f1_score: 0.9810 - 53s/epoch - 360ms/step\n",
      "Epoch 2/10\n",
      "148/148 - 46s - loss: 0.0925 - accuracy: 0.9714 - precision: 0.9768 - recall: 0.9661 - auc: 0.9987 - f1_score: 0.9714 - val_loss: 0.0528 - val_accuracy: 0.9835 - val_precision: 0.9872 - val_recall: 0.9797 - val_auc: 0.9994 - val_f1_score: 0.9835 - 46s/epoch - 312ms/step\n",
      "Epoch 3/10\n",
      "148/148 - 47s - loss: 0.0799 - accuracy: 0.9733 - precision: 0.9790 - recall: 0.9691 - auc: 0.9991 - f1_score: 0.9740 - val_loss: 0.0559 - val_accuracy: 0.9838 - val_precision: 0.9869 - val_recall: 0.9800 - val_auc: 0.9992 - val_f1_score: 0.9835 - 47s/epoch - 315ms/step\n",
      "Epoch 4/10\n",
      "148/148 - 51s - loss: 0.0675 - accuracy: 0.9779 - precision: 0.9812 - recall: 0.9751 - auc: 0.9992 - f1_score: 0.9781 - val_loss: 0.0484 - val_accuracy: 0.9835 - val_precision: 0.9873 - val_recall: 0.9819 - val_auc: 0.9996 - val_f1_score: 0.9846 - 51s/epoch - 344ms/step\n",
      "Epoch 5/10\n",
      "148/148 - 49s - loss: 0.0559 - accuracy: 0.9810 - precision: 0.9834 - recall: 0.9782 - auc: 0.9992 - f1_score: 0.9808 - val_loss: 0.0582 - val_accuracy: 0.9819 - val_precision: 0.9844 - val_recall: 0.9807 - val_auc: 0.9990 - val_f1_score: 0.9825 - 49s/epoch - 328ms/step\n",
      "Epoch 6/10\n",
      "148/148 - 46s - loss: 0.0624 - accuracy: 0.9799 - precision: 0.9826 - recall: 0.9782 - auc: 0.9989 - f1_score: 0.9804 - val_loss: 0.0460 - val_accuracy: 0.9851 - val_precision: 0.9870 - val_recall: 0.9848 - val_auc: 0.9994 - val_f1_score: 0.9859 - 46s/epoch - 311ms/step\n",
      "Epoch 7/10\n",
      "148/148 - 47s - loss: 0.0467 - accuracy: 0.9851 - precision: 0.9874 - recall: 0.9832 - auc: 0.9994 - f1_score: 0.9853 - val_loss: 0.0497 - val_accuracy: 0.9819 - val_precision: 0.9844 - val_recall: 0.9813 - val_auc: 0.9989 - val_f1_score: 0.9829 - 47s/epoch - 317ms/step\n",
      "Epoch 8/10\n",
      "148/148 - 47s - loss: 0.0466 - accuracy: 0.9847 - precision: 0.9861 - recall: 0.9832 - auc: 0.9995 - f1_score: 0.9847 - val_loss: 0.0480 - val_accuracy: 0.9845 - val_precision: 0.9870 - val_recall: 0.9829 - val_auc: 0.9993 - val_f1_score: 0.9849 - 47s/epoch - 316ms/step\n",
      "Epoch 9/10\n",
      "148/148 - 48s - loss: 0.0469 - accuracy: 0.9837 - precision: 0.9855 - recall: 0.9826 - auc: 0.9994 - f1_score: 0.9840 - val_loss: 0.0419 - val_accuracy: 0.9864 - val_precision: 0.9882 - val_recall: 0.9851 - val_auc: 0.9994 - val_f1_score: 0.9867 - 48s/epoch - 321ms/step\n",
      "Epoch 10/10\n",
      "148/148 - 47s - loss: 0.0431 - accuracy: 0.9865 - precision: 0.9885 - recall: 0.9852 - auc: 0.9996 - f1_score: 0.9868 - val_loss: 0.0569 - val_accuracy: 0.9835 - val_precision: 0.9854 - val_recall: 0.9816 - val_auc: 0.9991 - val_f1_score: 0.9835 - 47s/epoch - 320ms/step\n",
      "50/50 [==============================] - 12s 231ms/step - loss: 0.0565 - accuracy: 0.9838 - precision: 0.9854 - recall: 0.9819 - auc: 0.9992 - f1_score: 0.9837\n",
      "Validation Accuracy for trial 7: 0.9838454127311707\n",
      "12/12 [==============================] - 3s 252ms/step - loss: 0.0725 - accuracy: 0.9766 - precision: 0.9778 - recall: 0.9753 - auc: 0.9985 - f1_score: 0.9765\n",
      "Test Accuracy for trial 7: 0.9765625\n",
      "Model saved as DenseNet_models/DenseNet7.h5\n",
      "Trial 8\n",
      "Epoch 1/10\n",
      "148/148 - 55s - loss: 0.2464 - accuracy: 0.9242 - precision: 0.9559 - recall: 0.9023 - auc: 0.9951 - f1_score: 0.9283 - val_loss: 0.0705 - val_accuracy: 0.9785 - val_precision: 0.9824 - val_recall: 0.9734 - val_auc: 0.9994 - val_f1_score: 0.9779 - 55s/epoch - 371ms/step\n",
      "Epoch 2/10\n",
      "148/148 - 47s - loss: 0.0843 - accuracy: 0.9718 - precision: 0.9779 - recall: 0.9665 - auc: 0.9991 - f1_score: 0.9722 - val_loss: 0.0568 - val_accuracy: 0.9800 - val_precision: 0.9863 - val_recall: 0.9772 - val_auc: 0.9996 - val_f1_score: 0.9817 - 47s/epoch - 320ms/step\n",
      "Epoch 3/10\n",
      "148/148 - 47s - loss: 0.0765 - accuracy: 0.9767 - precision: 0.9806 - recall: 0.9728 - auc: 0.9988 - f1_score: 0.9767 - val_loss: 0.0497 - val_accuracy: 0.9829 - val_precision: 0.9863 - val_recall: 0.9816 - val_auc: 0.9994 - val_f1_score: 0.9840 - 47s/epoch - 317ms/step\n",
      "Epoch 4/10\n",
      "148/148 - 50s - loss: 0.0686 - accuracy: 0.9781 - precision: 0.9814 - recall: 0.9755 - auc: 0.9992 - f1_score: 0.9784 - val_loss: 0.0444 - val_accuracy: 0.9867 - val_precision: 0.9889 - val_recall: 0.9842 - val_auc: 0.9996 - val_f1_score: 0.9865 - 50s/epoch - 337ms/step\n",
      "Epoch 5/10\n",
      "148/148 - 51s - loss: 0.0555 - accuracy: 0.9819 - precision: 0.9841 - recall: 0.9788 - auc: 0.9994 - f1_score: 0.9814 - val_loss: 0.0545 - val_accuracy: 0.9826 - val_precision: 0.9851 - val_recall: 0.9810 - val_auc: 0.9992 - val_f1_score: 0.9830 - 51s/epoch - 347ms/step\n",
      "Epoch 6/10\n",
      "148/148 - 48s - loss: 0.0595 - accuracy: 0.9818 - precision: 0.9839 - recall: 0.9798 - auc: 0.9993 - f1_score: 0.9819 - val_loss: 0.0502 - val_accuracy: 0.9829 - val_precision: 0.9860 - val_recall: 0.9807 - val_auc: 0.9994 - val_f1_score: 0.9833 - 48s/epoch - 321ms/step\n",
      "Epoch 7/10\n",
      "148/148 - 49s - loss: 0.0509 - accuracy: 0.9830 - precision: 0.9852 - recall: 0.9812 - auc: 0.9994 - f1_score: 0.9832 - val_loss: 0.0437 - val_accuracy: 0.9854 - val_precision: 0.9870 - val_recall: 0.9835 - val_auc: 0.9996 - val_f1_score: 0.9852 - 49s/epoch - 330ms/step\n",
      "Epoch 8/10\n",
      "148/148 - 51s - loss: 0.0400 - accuracy: 0.9868 - precision: 0.9885 - recall: 0.9846 - auc: 0.9995 - f1_score: 0.9866 - val_loss: 0.0383 - val_accuracy: 0.9886 - val_precision: 0.9901 - val_recall: 0.9867 - val_auc: 0.9994 - val_f1_score: 0.9884 - 51s/epoch - 342ms/step\n",
      "Epoch 9/10\n",
      "148/148 - 50s - loss: 0.0419 - accuracy: 0.9864 - precision: 0.9877 - recall: 0.9851 - auc: 0.9995 - f1_score: 0.9864 - val_loss: 0.0479 - val_accuracy: 0.9842 - val_precision: 0.9854 - val_recall: 0.9819 - val_auc: 0.9992 - val_f1_score: 0.9837 - 50s/epoch - 340ms/step\n",
      "Epoch 10/10\n",
      "148/148 - 50s - loss: 0.0432 - accuracy: 0.9845 - precision: 0.9863 - recall: 0.9827 - auc: 0.9997 - f1_score: 0.9845 - val_loss: 0.0449 - val_accuracy: 0.9886 - val_precision: 0.9908 - val_recall: 0.9861 - val_auc: 0.9987 - val_f1_score: 0.9884 - 50s/epoch - 339ms/step\n",
      "50/50 [==============================] - 13s 249ms/step - loss: 0.0484 - accuracy: 0.9883 - precision: 0.9901 - recall: 0.9864 - auc: 0.9986 - f1_score: 0.9883\n",
      "Validation Accuracy for trial 8: 0.9882799983024597\n",
      "12/12 [==============================] - 3s 261ms/step - loss: 0.0686 - accuracy: 0.9818 - precision: 0.9843 - recall: 0.9805 - auc: 0.9985 - f1_score: 0.9824\n",
      "Test Accuracy for trial 8: 0.9817708134651184\n",
      "Model saved as DenseNet_models/DenseNet8.h5\n",
      "Trial 9\n",
      "Epoch 1/10\n",
      "148/148 - 59s - loss: 0.2716 - accuracy: 0.9191 - precision: 0.9539 - recall: 0.8954 - auc: 0.9937 - f1_score: 0.9237 - val_loss: 0.0646 - val_accuracy: 0.9785 - val_precision: 0.9837 - val_recall: 0.9750 - val_auc: 0.9996 - val_f1_score: 0.9793 - 59s/epoch - 396ms/step\n",
      "Epoch 2/10\n",
      "148/148 - 52s - loss: 0.0884 - accuracy: 0.9721 - precision: 0.9776 - recall: 0.9671 - auc: 0.9989 - f1_score: 0.9723 - val_loss: 0.0523 - val_accuracy: 0.9842 - val_precision: 0.9863 - val_recall: 0.9810 - val_auc: 0.9997 - val_f1_score: 0.9836 - 52s/epoch - 349ms/step\n",
      "Epoch 3/10\n",
      "148/148 - 52s - loss: 0.0831 - accuracy: 0.9731 - precision: 0.9775 - recall: 0.9700 - auc: 0.9990 - f1_score: 0.9738 - val_loss: 0.0542 - val_accuracy: 0.9826 - val_precision: 0.9841 - val_recall: 0.9800 - val_auc: 0.9995 - val_f1_score: 0.9821 - 52s/epoch - 354ms/step\n",
      "Epoch 4/10\n",
      "148/148 - 52s - loss: 0.0702 - accuracy: 0.9762 - precision: 0.9805 - recall: 0.9728 - auc: 0.9992 - f1_score: 0.9766 - val_loss: 0.0610 - val_accuracy: 0.9826 - val_precision: 0.9857 - val_recall: 0.9804 - val_auc: 0.9993 - val_f1_score: 0.9830 - 52s/epoch - 352ms/step\n",
      "Epoch 5/10\n",
      "148/148 - 52s - loss: 0.0558 - accuracy: 0.9822 - precision: 0.9854 - recall: 0.9796 - auc: 0.9993 - f1_score: 0.9825 - val_loss: 0.0452 - val_accuracy: 0.9848 - val_precision: 0.9873 - val_recall: 0.9835 - val_auc: 0.9997 - val_f1_score: 0.9854 - 52s/epoch - 351ms/step\n",
      "Epoch 6/10\n",
      "148/148 - 51s - loss: 0.0548 - accuracy: 0.9795 - precision: 0.9829 - recall: 0.9779 - auc: 0.9996 - f1_score: 0.9804 - val_loss: 0.0597 - val_accuracy: 0.9804 - val_precision: 0.9825 - val_recall: 0.9778 - val_auc: 0.9996 - val_f1_score: 0.9802 - 51s/epoch - 348ms/step\n",
      "Epoch 7/10\n",
      "148/148 - 51s - loss: 0.0490 - accuracy: 0.9823 - precision: 0.9846 - recall: 0.9803 - auc: 0.9996 - f1_score: 0.9824 - val_loss: 0.0515 - val_accuracy: 0.9838 - val_precision: 0.9857 - val_recall: 0.9829 - val_auc: 0.9996 - val_f1_score: 0.9843 - 51s/epoch - 344ms/step\n",
      "Epoch 8/10\n",
      "148/148 - 51s - loss: 0.0414 - accuracy: 0.9849 - precision: 0.9866 - recall: 0.9834 - auc: 0.9995 - f1_score: 0.9850 - val_loss: 0.0446 - val_accuracy: 0.9873 - val_precision: 0.9883 - val_recall: 0.9857 - val_auc: 0.9991 - val_f1_score: 0.9870 - 51s/epoch - 343ms/step\n",
      "Epoch 9/10\n",
      "148/148 - 50s - loss: 0.0488 - accuracy: 0.9839 - precision: 0.9862 - recall: 0.9824 - auc: 0.9996 - f1_score: 0.9843 - val_loss: 0.0772 - val_accuracy: 0.9753 - val_precision: 0.9774 - val_recall: 0.9728 - val_auc: 0.9990 - val_f1_score: 0.9751 - 50s/epoch - 339ms/step\n",
      "Epoch 10/10\n",
      "148/148 - 50s - loss: 0.0438 - accuracy: 0.9851 - precision: 0.9869 - recall: 0.9836 - auc: 0.9996 - f1_score: 0.9852 - val_loss: 0.0462 - val_accuracy: 0.9864 - val_precision: 0.9870 - val_recall: 0.9838 - val_auc: 0.9991 - val_f1_score: 0.9854 - 50s/epoch - 339ms/step\n",
      "50/50 [==============================] - 13s 248ms/step - loss: 0.0483 - accuracy: 0.9854 - precision: 0.9860 - recall: 0.9826 - auc: 0.9989 - f1_score: 0.9843\n",
      "Validation Accuracy for trial 9: 0.9854292273521423\n",
      "12/12 [==============================] - 3s 261ms/step - loss: 0.0553 - accuracy: 0.9857 - precision: 0.9869 - recall: 0.9844 - auc: 0.9986 - f1_score: 0.9857\n",
      "Test Accuracy for trial 9: 0.9856770634651184\n",
      "Model saved as DenseNet_models/DenseNet9.h5\n",
      "Trial 10\n",
      "Epoch 1/10\n",
      "148/148 - 57s - loss: 0.2483 - accuracy: 0.9205 - precision: 0.9583 - recall: 0.8999 - auc: 0.9955 - f1_score: 0.9282 - val_loss: 0.0708 - val_accuracy: 0.9794 - val_precision: 0.9840 - val_recall: 0.9762 - val_auc: 0.9992 - val_f1_score: 0.9801 - 57s/epoch - 385ms/step\n",
      "Epoch 2/10\n",
      "148/148 - 51s - loss: 0.1007 - accuracy: 0.9676 - precision: 0.9757 - recall: 0.9622 - auc: 0.9984 - f1_score: 0.9689 - val_loss: 0.0510 - val_accuracy: 0.9848 - val_precision: 0.9882 - val_recall: 0.9819 - val_auc: 0.9995 - val_f1_score: 0.9851 - 51s/epoch - 343ms/step\n",
      "Epoch 3/10\n",
      "148/148 - 50s - loss: 0.0756 - accuracy: 0.9761 - precision: 0.9809 - recall: 0.9722 - auc: 0.9992 - f1_score: 0.9766 - val_loss: 0.0550 - val_accuracy: 0.9791 - val_precision: 0.9828 - val_recall: 0.9778 - val_auc: 0.9994 - val_f1_score: 0.9803 - 50s/epoch - 339ms/step\n",
      "Epoch 4/10\n",
      "148/148 - 50s - loss: 0.0681 - accuracy: 0.9771 - precision: 0.9796 - recall: 0.9742 - auc: 0.9994 - f1_score: 0.9769 - val_loss: 0.0509 - val_accuracy: 0.9819 - val_precision: 0.9853 - val_recall: 0.9794 - val_auc: 0.9995 - val_f1_score: 0.9824 - 50s/epoch - 341ms/step\n",
      "Epoch 5/10\n",
      "148/148 - 50s - loss: 0.0596 - accuracy: 0.9800 - precision: 0.9827 - recall: 0.9777 - auc: 0.9994 - f1_score: 0.9802 - val_loss: 0.0398 - val_accuracy: 0.9870 - val_precision: 0.9905 - val_recall: 0.9861 - val_auc: 0.9999 - val_f1_score: 0.9883 - 50s/epoch - 339ms/step\n",
      "Epoch 6/10\n",
      "148/148 - 50s - loss: 0.0553 - accuracy: 0.9816 - precision: 0.9846 - recall: 0.9797 - auc: 0.9994 - f1_score: 0.9822 - val_loss: 0.0483 - val_accuracy: 0.9861 - val_precision: 0.9867 - val_recall: 0.9845 - val_auc: 0.9992 - val_f1_score: 0.9856 - 50s/epoch - 341ms/step\n",
      "Epoch 7/10\n",
      "148/148 - 51s - loss: 0.0515 - accuracy: 0.9817 - precision: 0.9847 - recall: 0.9793 - auc: 0.9997 - f1_score: 0.9820 - val_loss: 0.0610 - val_accuracy: 0.9788 - val_precision: 0.9828 - val_recall: 0.9775 - val_auc: 0.9993 - val_f1_score: 0.9801 - 51s/epoch - 342ms/step\n",
      "Epoch 8/10\n",
      "148/148 - 50s - loss: 0.0575 - accuracy: 0.9803 - precision: 0.9830 - recall: 0.9781 - auc: 0.9993 - f1_score: 0.9806 - val_loss: 0.0555 - val_accuracy: 0.9816 - val_precision: 0.9838 - val_recall: 0.9800 - val_auc: 0.9994 - val_f1_score: 0.9819 - 50s/epoch - 340ms/step\n",
      "Epoch 9/10\n",
      "148/148 - 51s - loss: 0.0474 - accuracy: 0.9844 - precision: 0.9859 - recall: 0.9832 - auc: 0.9996 - f1_score: 0.9846 - val_loss: 0.0578 - val_accuracy: 0.9810 - val_precision: 0.9822 - val_recall: 0.9807 - val_auc: 0.9992 - val_f1_score: 0.9815 - 51s/epoch - 343ms/step\n",
      "Epoch 10/10\n",
      "148/148 - 50s - loss: 0.0443 - accuracy: 0.9863 - precision: 0.9874 - recall: 0.9848 - auc: 0.9993 - f1_score: 0.9861 - val_loss: 0.0612 - val_accuracy: 0.9800 - val_precision: 0.9828 - val_recall: 0.9794 - val_auc: 0.9991 - val_f1_score: 0.9811 - 50s/epoch - 340ms/step\n",
      "50/50 [==============================] - 13s 250ms/step - loss: 0.0581 - accuracy: 0.9813 - precision: 0.9838 - recall: 0.9804 - auc: 0.9992 - f1_score: 0.9821\n",
      "Validation Accuracy for trial 10: 0.9813113808631897\n",
      "12/12 [==============================] - 3s 260ms/step - loss: 0.0564 - accuracy: 0.9805 - precision: 0.9830 - recall: 0.9766 - auc: 0.9992 - f1_score: 0.9798\n",
      "Test Accuracy for trial 10: 0.98046875\n",
      "Model saved as DenseNet_models/DenseNet10.h5\n"
     ]
    }
   ],
   "source": [
    "num_trials  = 10\n",
    "results     = []\n",
    "save_dir    = \"DenseNet_models\"\n",
    "\n",
    "# Create directory if it doesn't exist\n",
    "if not os.path.exists(save_dir):\n",
    "    os.makedirs(save_dir)\n",
    "\n",
    "for i in range(num_trials):\n",
    "    print(f\"Trial {i+1}\")\n",
    "    seed    = i                             # Different seed for each trial\n",
    "    set_random_seeds(seed)\n",
    "\n",
    "    model   = create_model()\n",
    "    \n",
    "    history = model.fit(train_dataset, validation_data=val_dataset, epochs=10, verbose=2)\n",
    "\n",
    "    val_loss, val_acc, _, _, _, _ = model.evaluate(val_dataset)\n",
    "    print(f\"Validation Accuracy for trial {i+1}: {val_acc}\")\n",
    "    \n",
    "    results.append({\n",
    "        'trial'   : i+1,\n",
    "        'seed'    : seed,\n",
    "        'val_loss': val_loss,\n",
    "        'val_acc' : val_acc,\n",
    "        'history' : history.history\n",
    "    })\n",
    "\n",
    "    test_loss, test_acc, _, _, _, _ = model.evaluate(test_dataset)\n",
    "    print(f\"Test Accuracy for trial {i+1}: {test_acc}\")\n",
    "    \n",
    "    model_name = f'DenseNet{i+1}.h5'\n",
    "    model_path = os.path.join(save_dir, model_name)\n",
    "\n",
    "    # Save the model if the performance criteria are met\n",
    "    if val_acc > 0.95 and test_acc > 0.95:\n",
    "        model.save(model_path)\n",
    "        print(f\"Model saved as {model_path}\")"
   ]
  },
  {
   "cell_type": "code",
   "execution_count": 11,
   "id": "1282dbc7-1574-4696-a962-36f8d00b266f",
   "metadata": {},
   "outputs": [
    {
     "name": "stdout",
     "output_type": "stream",
     "text": [
      "Trail 4: Seed 3 - Validation Accuracy: 0.9816281199455261\n",
      "Trail 5: Seed 4 - Validation Accuracy: 0.9838454127311707\n",
      "Trail 6: Seed 5 - Validation Accuracy: 0.9781438112258911\n",
      "Trail 7: Seed 6 - Validation Accuracy: 0.9838454127311707\n",
      "Trail 8: Seed 7 - Validation Accuracy: 0.9882799983024597\n",
      "Trail 9: Seed 8 - Validation Accuracy: 0.9854292273521423\n",
      "Trail 10: Seed 9 - Validation Accuracy: 0.9813113808631897\n"
     ]
    }
   ],
   "source": [
    "for result in results:\n",
    "    print(f\"Trail {result['trial']}: Seed {result['seed']} - Validation Accuracy: {result['val_acc']}\")"
   ]
  }
 ],
 "metadata": {
  "kernelspec": {
   "display_name": "Python 3 (ipykernel)",
   "language": "python",
   "name": "python3"
  },
  "language_info": {
   "codemirror_mode": {
    "name": "ipython",
    "version": 3
   },
   "file_extension": ".py",
   "mimetype": "text/x-python",
   "name": "python",
   "nbconvert_exporter": "python",
   "pygments_lexer": "ipython3",
   "version": "3.11.6"
  }
 },
 "nbformat": 4,
 "nbformat_minor": 5
}
